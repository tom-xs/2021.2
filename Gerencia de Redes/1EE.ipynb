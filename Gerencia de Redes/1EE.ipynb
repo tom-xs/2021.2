{
 "cells": [
  {
   "cell_type": "markdown",
   "metadata": {},
   "source": [
    "Referencias:\n",
    "SNMP\n",
    "* http://www.haindl.org/doc/tcpipv1/snmp_sim.htm\n",
    "* http://www.tcpipguide.com/free/t_SNMPVersion1SNMPv1MessageFormat-3.htm\n",
    "* https://support.huawei.com/enterprise/br/doc/EDOC1100086963\n",
    "* https://www.incibe-cert.es/en/blog/snmp-it-simple-name-implies\n",
    "* https://blog.domotz.com/own-the-networks/snmp-port-number/\n",
    "Struct:\n",
    "https://docs.python.org/3/library/struct.html"
   ]
  },
  {
   "cell_type": "code",
   "execution_count": 335,
   "metadata": {},
   "outputs": [],
   "source": [
    "from struct import pack, unpack\n",
    "import socket"
   ]
  },
  {
   "cell_type": "markdown",
   "metadata": {},
   "source": [
    "## Montando o datagram"
   ]
  },
  {
   "cell_type": "markdown",
   "metadata": {},
   "source": [
    "![structure](assets/snmp_structure.png)  "
   ]
  },
  {
   "cell_type": "markdown",
   "metadata": {},
   "source": [
    "![data](assets/snmp_data.png)"
   ]
  },
  {
   "cell_type": "markdown",
   "metadata": {},
   "source": [
    "### Montando VarbindList"
   ]
  },
  {
   "cell_type": "markdown",
   "metadata": {},
   "source": [
    "* System Description: .1.3.6.1.2.1.1.1.0\n",
    "* System Uptime: .1.3.6.1.2.1.1.3.0\n",
    "* System Name: .1.3.6.1.2.1.1.5.0"
   ]
  },
  {
   "cell_type": "code",
   "execution_count": 426,
   "metadata": {},
   "outputs": [],
   "source": [
    "dados = b'mensagem a ser passada por snmp'\n"
   ]
  },
  {
   "cell_type": "code",
   "execution_count": 429,
   "metadata": {},
   "outputs": [],
   "source": [
    "snmpValue = pack(\"bb{}s\".format(len(dados)),4,len(dados),dados) #byte 0x05 indica que dataType do que to enviando é nulo"
   ]
  },
  {
   "cell_type": "code",
   "execution_count": 459,
   "metadata": {},
   "outputs": [],
   "source": [
    "OID_CODE = '1.2.1.1.1.0'.split(\".\")  #System Description\n",
    "snmpOid = pack(\"2b\",0x2b, 0x06) + bytearray(int(x) for x in OID_CODE ) # iso.3 + restante do oid"
   ]
  },
  {
   "cell_type": "code",
   "execution_count": 460,
   "metadata": {},
   "outputs": [
    {
     "data": {
      "text/plain": [
       "'2b 06 01 02 01 01 01 00 04 1f 6d 65 6e 73 61 67 65 6d 20 61 20 73 65 72 20 70 61 73 73 61 64 61 20 70 6f 72 20 73 6e 6d 70'"
      ]
     },
     "execution_count": 460,
     "metadata": {},
     "output_type": "execute_result"
    }
   ],
   "source": [
    "snmpVarbind = snmpOid + snmpValue\n",
    "snmpVarbind.hex(\" \")"
   ]
  },
  {
   "cell_type": "code",
   "execution_count": 461,
   "metadata": {},
   "outputs": [
    {
     "data": {
      "text/plain": [
       "'06 08 2b 06 01 02 01 01 01 00 04 1f 6d 65 6e 73 61 67 65 6d 20 61 20 73 65 72 20 70 61 73 73 61 64 61 20 70 6f 72 20 73 6e 6d 70'"
      ]
     },
     "execution_count": 461,
     "metadata": {},
     "output_type": "execute_result"
    }
   ],
   "source": [
    "snmpVarbindSequence = pack('b',6) + len(snmpOid).to_bytes(1,'little') + snmpVarbind \n",
    "snmpVarbindSequence.hex(\" \")"
   ]
  },
  {
   "cell_type": "code",
   "execution_count": 462,
   "metadata": {},
   "outputs": [
    {
     "data": {
      "text/plain": [
       "'30 2d 30 2b 06 08 2b 06 01 02 01 01 01 00 04 1f 6d 65 6e 73 61 67 65 6d 20 61 20 73 65 72 20 70 61 73 73 61 64 61 20 70 6f 72 20 73 6e 6d 70'"
      ]
     },
     "execution_count": 462,
     "metadata": {},
     "output_type": "execute_result"
    }
   ],
   "source": [
    "snmpVarbindList = pack('b',0x30) + len(snmpVarbindSequence).to_bytes(1,\"little\") + snmpVarbindSequence\n",
    "snmpVarbindList = pack('b',0x30) + len(snmpVarbindList).to_bytes(1,\"little\") +  snmpVarbindList\n",
    "snmpVarbindList.hex(\" \")"
   ]
  },
  {
   "cell_type": "markdown",
   "metadata": {},
   "source": [
    "### Montando PDU"
   ]
  },
  {
   "cell_type": "code",
   "execution_count": 463,
   "metadata": {},
   "outputs": [
    {
     "data": {
      "text/plain": [
       "'02 01 00 30 2d 30 2b 06 08 2b 06 01 02 01 01 01 00 04 1f 6d 65 6e 73 61 67 65 6d 20 61 20 73 65 72 20 70 61 73 73 61 64 61 20 70 6f 72 20 73 6e 6d 70'"
      ]
     },
     "execution_count": 463,
     "metadata": {},
     "output_type": "execute_result"
    }
   ],
   "source": [
    "snmpErrorIndex = pack(\"b\",0x0)\n",
    "snmpPdu = pack(\"b\",0x02) + len(snmpErrorIndex).to_bytes(1,\"little\") +  snmpErrorIndex + snmpVarbindList\n",
    "snmpPdu.hex(\" \")"
   ]
  },
  {
   "cell_type": "code",
   "execution_count": 464,
   "metadata": {},
   "outputs": [
    {
     "data": {
      "text/plain": [
       "'02 01 00 02 01 00 30 2d 30 2b 06 08 2b 06 01 02 01 01 01 00 04 1f 6d 65 6e 73 61 67 65 6d 20 61 20 73 65 72 20 70 61 73 73 61 64 61 20 70 6f 72 20 73 6e 6d 70'"
      ]
     },
     "execution_count": 464,
     "metadata": {},
     "output_type": "execute_result"
    }
   ],
   "source": [
    "snmpErrorStatus = pack(\"b\",0x0)\n",
    "snmpPdu = pack('b',2) + len(snmpErrorStatus).to_bytes(1,\"little\") + snmpErrorStatus + snmpPdu\n",
    "snmpPdu.hex(\" \")"
   ]
  },
  {
   "cell_type": "code",
   "execution_count": 465,
   "metadata": {},
   "outputs": [
    {
     "data": {
      "text/plain": [
       "'02 01 02 02 01 00 02 01 00 30 2d 30 2b 06 08 2b 06 01 02 01 01 01 00 04 1f 6d 65 6e 73 61 67 65 6d 20 61 20 73 65 72 20 70 61 73 73 61 64 61 20 70 6f 72 20 73 6e 6d 70'"
      ]
     },
     "execution_count": 465,
     "metadata": {},
     "output_type": "execute_result"
    }
   ],
   "source": [
    "snmpRequestId = pack(\"b\",0x2)\n",
    "snmpPdu = pack('b',2) + len(snmpRequestId).to_bytes(1,\"little\") + snmpRequestId + snmpPdu\n",
    "snmpPdu.hex(\" \")"
   ]
  },
  {
   "cell_type": "code",
   "execution_count": 466,
   "metadata": {},
   "outputs": [
    {
     "data": {
      "text/plain": [
       "'a0 38 02 01 02 02 01 00 02 01 00 30 2d 30 2b 06 08 2b 06 01 02 01 01 01 00 04 1f 6d 65 6e 73 61 67 65 6d 20 61 20 73 65 72 20 70 61 73 73 61 64 61 20 70 6f 72 20 73 6e 6d 70'"
      ]
     },
     "execution_count": 466,
     "metadata": {},
     "output_type": "execute_result"
    }
   ],
   "source": [
    "snmpPduType =  pack('B',0xa0) # 0xa0 = getRequest, 0xa2 = getResponse\n",
    "snmpPdu = snmpPduType + len(snmpPdu).to_bytes(1,\"little\") + snmpPdu\n",
    "snmpPdu.hex(\" \")"
   ]
  },
  {
   "cell_type": "markdown",
   "metadata": {},
   "source": [
    "### Montando header"
   ]
  },
  {
   "cell_type": "code",
   "execution_count": 467,
   "metadata": {},
   "outputs": [
    {
     "data": {
      "text/plain": [
       "'04 06 70 75 62 6c 69 63 a0 38 02 01 02 02 01 00 02 01 00 30 2d 30 2b 06 08 2b 06 01 02 01 01 01 00 04 1f 6d 65 6e 73 61 67 65 6d 20 61 20 73 65 72 20 70 61 73 73 61 64 61 20 70 6f 72 20 73 6e 6d 70'"
      ]
     },
     "execution_count": 467,
     "metadata": {},
     "output_type": "execute_result"
    }
   ],
   "source": [
    "COMMUNITY = b'public'\n",
    "commLen = len(COMMUNITY)\n",
    "snmpCommunity = pack(\"{}s\".format(commLen),COMMUNITY)\n",
    "\n",
    "snmpHeader = pack('b',0x04) + commLen.to_bytes(1,\"little\") + snmpCommunity + snmpPdu\n",
    "\n",
    "snmpHeader.hex(\" \")"
   ]
  },
  {
   "cell_type": "code",
   "execution_count": 468,
   "metadata": {},
   "outputs": [
    {
     "data": {
      "text/plain": [
       "'02 01 00 04 06 70 75 62 6c 69 63 a0 38 02 01 02 02 01 00 02 01 00 30 2d 30 2b 06 08 2b 06 01 02 01 01 01 00 04 1f 6d 65 6e 73 61 67 65 6d 20 61 20 73 65 72 20 70 61 73 73 61 64 61 20 70 6f 72 20 73 6e 6d 70'"
      ]
     },
     "execution_count": 468,
     "metadata": {},
     "output_type": "execute_result"
    }
   ],
   "source": [
    "snmpVersion = pack('b',0x0)\n",
    "snmpHeader = pack('b',0x2) + len(snmpVersion).to_bytes(1,\"little\") + snmpVersion + snmpHeader\n",
    "\n",
    "snmpHeader.hex(\" \")"
   ]
  },
  {
   "cell_type": "code",
   "execution_count": 469,
   "metadata": {},
   "outputs": [
    {
     "data": {
      "text/plain": [
       "'30 45 02 01 00 04 06 70 75 62 6c 69 63 a0 38 02 01 02 02 01 00 02 01 00 30 2d 30 2b 06 08 2b 06 01 02 01 01 01 00 04 1f 6d 65 6e 73 61 67 65 6d 20 61 20 73 65 72 20 70 61 73 73 61 64 61 20 70 6f 72 20 73 6e 6d 70'"
      ]
     },
     "execution_count": 469,
     "metadata": {},
     "output_type": "execute_result"
    }
   ],
   "source": [
    "snmpMessage = pack('b',0x30) + len(snmpHeader).to_bytes(1,\"little\") + snmpHeader\n",
    "snmpMessage.hex(\" \")"
   ]
  },
  {
   "cell_type": "code",
   "execution_count": 470,
   "metadata": {},
   "outputs": [
    {
     "name": "stdout",
     "output_type": "stream",
     "text": [
      "Mensagem SNMP em bytes:\n",
      "b'0E\\x02\\x01\\x00\\x04\\x06public\\xa08\\x02\\x01\\x02\\x02\\x01\\x00\\x02\\x01\\x000-0+\\x06\\x08+\\x06\\x01\\x02\\x01\\x01\\x01\\x00\\x04\\x1fmensagem a ser passada por snmp'\n",
      "\n",
      "Mensagem SNMP em Hex:\n",
      "30 45 02 01 00 04 06 70 75 62 6c 69 63 a0 38 02 01 02 02 01 00 02 01 00 30 2d 30 2b 06 08 2b 06 01 02 01 01 01 00 04 1f 6d 65 6e 73 61 67 65 6d 20 61 20 73 65 72 20 70 61 73 73 61 64 61 20 70 6f 72 20 73 6e 6d 70\n"
     ]
    }
   ],
   "source": [
    "print('Mensagem SNMP em bytes:\\n{}\\n\\nMensagem SNMP em Hex:\\n{}'.format(snmpMessage, snmpMessage.hex(\" \")))"
   ]
  },
  {
   "cell_type": "markdown",
   "metadata": {},
   "source": [
    "## Montando o socket"
   ]
  },
  {
   "cell_type": "code",
   "execution_count": 471,
   "metadata": {},
   "outputs": [],
   "source": [
    "ipDest = b'127.0.0.1' #b\"187.41.236.33\"\n",
    "portDest = 161\n",
    "s = socket.socket(socket.AF_INET, socket.SOCK_DGRAM)"
   ]
  },
  {
   "cell_type": "code",
   "execution_count": 472,
   "metadata": {},
   "outputs": [
    {
     "name": "stdout",
     "output_type": "stream",
     "text": [
      "Resposta Recebida!\n"
     ]
    }
   ],
   "source": [
    "s.sendto(snmpMessage,(ipDest,portDest))\n",
    "try:\n",
    "\tRxbuf = s.recv(2000)\n",
    "\tprint ('Resposta Recebida!')\n",
    "except socket.timeout:\n",
    "\tprint ('time out!!!')\n",
    "s.close()"
   ]
  },
  {
   "cell_type": "code",
   "execution_count": 490,
   "metadata": {},
   "outputs": [
    {
     "name": "stdout",
     "output_type": "stream",
     "text": [
      "Bytes:\n",
      "b'0l\\x02\\x01\\x00\\x04\\x06public\\xa2_\\x02\\x01\\x02\\x02\\x01\\x00\\x02\\x01\\x000T0R\\x06\\x08+\\x06\\x01\\x02\\x01\\x01\\x01\\x00\\x04FLinux tom 5.10.0-13-amd64 #1 SMP Debian 5.10.106-1 (2022-03-17) x86_64'\n",
      "\n",
      "Hex:\n",
      "30 6c 02 01 00 04 06 70 75 62 6c 69 63 a2 5f 02 01 02 02 01 00 02 01 00 30 54 30 52 06 08 2b 06 01 02 01 01 01 00 04 46 4c 69 6e 75 78 20 74 6f 6d 20 35 2e 31 30 2e 30 2d 31 33 2d 61 6d 64 36 34 20 23 31 20 53 4d 50 20 44 65 62 69 61 6e 20 35 2e 31 30 2e 31 30 36 2d 31 20 28 32 30 32 32 2d 30 33 2d 31 37 29 20 78 38 36 5f 36 34\n",
      "\n",
      "String:\n",
      "0l\u0002\u0001\u0000\u0004\u0006public_\u0002\u0001\u0002\u0002\u0001\u0000\u0002\u0001\u00000T0R+\u0006\u0001\u0002\u0001\u0001\u0001\u0000\u0004FLinux tom 5.10.0-13-amd64 #1 SMP Debian 5.10.106-1 (2022-03-17) x86_64\n",
      "\n",
      "OBS.: a string pode conter erros de decodificação\n"
     ]
    }
   ],
   "source": [
    "try:\n",
    "    print(\"Bytes:\\n{}\\n\\nHex:\\n{}\\n\\nString:\\n{}\".format(Rxbuf,Rxbuf.hex(\" \"),Rxbuf.decode(\"utf-8\")))\n",
    "except UnicodeDecodeError:\n",
    "    print(\"Bytes:\\n{}\\n\\nHex:\\n{}\\n\\nString:\\n{}\\n\\nOBS.: a string pode conter erros de decodificação\".format(Rxbuf,Rxbuf.hex(\" \"),Rxbuf.decode(\"utf-8\",errors='ignore')))"
   ]
  },
  {
   "cell_type": "code",
   "execution_count": 491,
   "metadata": {},
   "outputs": [
    {
     "name": "stdout",
     "output_type": "stream",
     "text": [
      "Mensagem SNMP em bytes:\n",
      "b'0E\\x02\\x01\\x00\\x04\\x06public\\xa08\\x02\\x01\\x02\\x02\\x01\\x00\\x02\\x01\\x000-0+\\x06\\x08+\\x06\\x01\\x02\\x01\\x01\\x03\\x00\\x04\\x1fmensagem a ser passada por snmp'\n",
      "\n",
      "Mensagem SNMP em Hex:\n",
      "30 45 02 01 00 04 06 70 75 62 6c 69 63 a0 38 02 01 02 02 01 00 02 01 00 30 2d 30 2b 06 08 2b 06 01 02 01 01 03 00 04 1f 6d 65 6e 73 61 67 65 6d 20 61 20 73 65 72 20 70 61 73 73 61 64 61 20 70 6f 72 20 73 6e 6d 70\n",
      "\n",
      "\n",
      "Resposta Recebida!\n",
      "Bytes:\n",
      "b'0)\\x02\\x01\\x00\\x04\\x06public\\xa2\\x1c\\x02\\x01\\x02\\x02\\x01\\x00\\x02\\x01\\x000\\x110\\x0f\\x06\\x08+\\x06\\x01\\x02\\x01\\x01\\x03\\x00C\\x03\\x05d\\xb8'\n",
      "\n",
      "Hex:\n",
      "30 29 02 01 00 04 06 70 75 62 6c 69 63 a2 1c 02 01 02 02 01 00 02 01 00 30 11 30 0f 06 08 2b 06 01 02 01 01 03 00 43 03 05 64 b8\n",
      "\n",
      "String:\n",
      "0)\u0002\u0001\u0000\u0004\u0006public\u001c\u0002\u0001\u0002\u0002\u0001\u0000\u0002\u0001\u00000\u00110\u000f+\u0006\u0001\u0002\u0001\u0001\u0003\u0000C\u0003\u0005d\n",
      "\n",
      "OBS.: a string pode conter erros de decodificação\n"
     ]
    }
   ],
   "source": [
    "def programaResumido(OID_CODE):\n",
    "\tdados = b'mensagem a ser passada por snmp'\n",
    "\tsnmpValue = pack(\"bb{}s\".format(len(dados)),4,len(dados),dados) #byte 0x05 indica que dataType do que to enviando é nulo\n",
    "\tOID_CODE = '1.2.1.1.3.0'.split(\".\")\n",
    "\tsnmpOid = pack(\"2b\",0x2b, 0x06) + bytearray(int(x) for x in OID_CODE ) # iso.3 + restante do oid\n",
    "\tsnmpVarbind = snmpOid + snmpValue\n",
    "\tsnmpVarbindSequence = pack('b',6) + len(snmpOid).to_bytes(1,'little') + snmpVarbind \n",
    "\tsnmpVarbindList = pack('b',0x30) + len(snmpVarbindSequence).to_bytes(1,\"little\") + snmpVarbindSequence\n",
    "\tsnmpVarbindList = pack('b',0x30) + len(snmpVarbindList).to_bytes(1,\"little\") +  snmpVarbindList\n",
    "\tsnmpErrorIndex = pack(\"b\",0x0)\n",
    "\tsnmpPdu = pack(\"b\",0x02) + len(snmpErrorIndex).to_bytes(1,\"little\") +  snmpErrorIndex + snmpVarbindList\n",
    "\tsnmpErrorStatus = pack(\"b\",0x0)\n",
    "\tsnmpPdu = pack('b',2) + len(snmpErrorStatus).to_bytes(1,\"little\") + snmpErrorStatus + snmpPdu\n",
    "\tsnmpRequestId = pack(\"b\",0x2)\n",
    "\tsnmpPdu = pack('b',2) + len(snmpRequestId).to_bytes(1,\"little\") + snmpRequestId + snmpPdu\n",
    "\tsnmpPduType =  pack('B',0xa0) # 0xa0 = getRequest, 0xa2 = getResponse\n",
    "\tsnmpPdu = snmpPduType + len(snmpPdu).to_bytes(1,\"little\") + snmpPdu\n",
    "\tCOMMUNITY = b'public'\n",
    "\tcommLen = len(COMMUNITY)\n",
    "\tsnmpCommunity = pack(\"{}s\".format(commLen),COMMUNITY)\n",
    "\tsnmpHeader = pack('b',0x04) + commLen.to_bytes(1,\"little\") + snmpCommunity + snmpPdu\n",
    "\tsnmpVersion = pack('b',0x0)\n",
    "\tsnmpHeader = pack('b',0x2) + len(snmpVersion).to_bytes(1,\"little\") + snmpVersion + snmpHeader\n",
    "\tsnmpMessage = pack('b',0x30) + len(snmpHeader).to_bytes(1,\"little\") + snmpHeader\n",
    "\tprint('Mensagem SNMP em bytes:\\n{}\\n\\nMensagem SNMP em Hex:\\n{}\\n\\n'.format(snmpMessage, snmpMessage.hex(\" \")))\n",
    "\tipDest = b'127.0.0.1' #b\"187.41.236.33\"\n",
    "\tportDest = 161\n",
    "\ts = socket.socket(socket.AF_INET, socket.SOCK_DGRAM)\n",
    "\ts.sendto(snmpMessage,(ipDest,portDest))\n",
    "\ttry:\n",
    "\t\tRxbuf = s.recv(2000)\n",
    "\t\tprint ('Resposta Recebida!')\n",
    "\texcept socket.timeout:\n",
    "\t\tprint ('time out!!!')\n",
    "\ts.close()\n",
    "\ttry:\n",
    "\t\tprint(\"Bytes:\\n{}\\n\\nHex:\\n{}\\n\\nString:\\n{}\".format(Rxbuf,Rxbuf.hex(\" \"),Rxbuf.decode(\"utf-8\")))\n",
    "\texcept UnicodeDecodeError:\n",
    "\t\tprint(\"Bytes:\\n{}\\n\\nHex:\\n{}\\n\\nString:\\n{}\\n\\nOBS.: a string pode conter erros de decodificação\".format(Rxbuf,Rxbuf.hex(\" \"),Rxbuf.decode(\"utf-8\",errors='ignore')))"
   ]
  },
  {
   "cell_type": "markdown",
   "metadata": {},
   "source": [
    "### Resumindo o programa e modificando o OID"
   ]
  },
  {
   "cell_type": "code",
   "execution_count": 493,
   "metadata": {},
   "outputs": [],
   "source": [
    "def programaResumido(OID_CODE):\n",
    "    dados = b'mensagem a ser passada por snmp'\n",
    "    snmpValue = pack(\"bb{}s\".format(len(dados)),4,len(dados),dados) #byte 0x05 indica que dataType do que to enviando é nulo\n",
    "    OID_CODE = OID_CODE.split(\".\")\n",
    "    snmpOid = pack(\"2b\",0x2b, 0x06) + bytearray(int(x) for x in OID_CODE ) # iso.3 + restante do oid\n",
    "    snmpVarbind = snmpOid + snmpValue\n",
    "    snmpVarbindSequence = pack('b',6) + len(snmpOid).to_bytes(1,'little') + snmpVarbind \n",
    "    snmpVarbindList = pack('b',0x30) + len(snmpVarbindSequence).to_bytes(1,\"little\") + snmpVarbindSequence\n",
    "    snmpVarbindList = pack('b',0x30) + len(snmpVarbindList).to_bytes(1,\"little\") +  snmpVarbindList\n",
    "    snmpErrorIndex = pack(\"b\",0x0)\n",
    "    snmpPdu = pack(\"b\",0x02) + len(snmpErrorIndex).to_bytes(1,\"little\") +  snmpErrorIndex + snmpVarbindList\n",
    "    snmpErrorStatus = pack(\"b\",0x0)\n",
    "    snmpPdu = pack('b',2) + len(snmpErrorStatus).to_bytes(1,\"little\") + snmpErrorStatus + snmpPdu\n",
    "    snmpRequestId = pack(\"b\",0x2)\n",
    "    snmpPdu = pack('b',2) + len(snmpRequestId).to_bytes(1,\"little\") + snmpRequestId + snmpPdu\n",
    "    snmpPduType =  pack('B',0xa0) # 0xa0 = getRequest, 0xa2 = getResponse\n",
    "    snmpPdu = snmpPduType + len(snmpPdu).to_bytes(1,\"little\") + snmpPdu\n",
    "    COMMUNITY = b'public'\n",
    "    commLen = len(COMMUNITY)\n",
    "    snmpCommunity = pack(\"{}s\".format(commLen),COMMUNITY)\n",
    "    snmpHeader = pack('b',0x04) + commLen.to_bytes(1,\"little\") + snmpCommunity + snmpPdu\n",
    "    snmpVersion = pack('b',0x0)\n",
    "    snmpHeader = pack('b',0x2) + len(snmpVersion).to_bytes(1,\"little\") + snmpVersion + snmpHeader\n",
    "    snmpMessage = pack('b',0x30) + len(snmpHeader).to_bytes(1,\"little\") + snmpHeader\n",
    "    print('Mensagem SNMP em bytes:\\n{}\\n\\nMensagem SNMP em Hex:\\n{}\\n\\n'.format(snmpMessage, snmpMessage.hex(\" \")))\n",
    "    ipDest = b'127.0.0.1' #b\"187.41.236.33\"\n",
    "    portDest = 161\n",
    "    s = socket.socket(socket.AF_INET, socket.SOCK_DGRAM)\n",
    "    s.sendto(snmpMessage,(ipDest,portDest))\n",
    "    try:\n",
    "        Rxbuf = s.recv(2000)\n",
    "        print ('Resposta Recebida!')\n",
    "    except socket.timeout:\n",
    "        print ('time out!!!')\n",
    "    s.close()\n",
    "    try:\n",
    "        print(\"Bytes:\\n{}\\n\\nHex:\\n{}\\n\\nString:\\n{}\".format(Rxbuf,Rxbuf.hex(\" \"),Rxbuf.decode(\"utf-8\")))\n",
    "    except UnicodeDecodeError:\n",
    "        print(\"Bytes:\\n{}\\n\\nHex:\\n{}\\n\\nString:\\n{}\\n\\nOBS.: a string pode conter erros de decodificação\".format(Rxbuf,Rxbuf.hex(\" \"),Rxbuf.decode(\"utf-8\",errors='ignore')))"
   ]
  },
  {
   "cell_type": "code",
   "execution_count": 495,
   "metadata": {},
   "outputs": [
    {
     "name": "stdout",
     "output_type": "stream",
     "text": [
      "Mensagem SNMP em bytes:\n",
      "b'0E\\x02\\x01\\x00\\x04\\x06public\\xa08\\x02\\x01\\x02\\x02\\x01\\x00\\x02\\x01\\x000-0+\\x06\\x08+\\x06\\x01\\x02\\x01\\x01\\x03\\x00\\x04\\x1fmensagem a ser passada por snmp'\n",
      "\n",
      "Mensagem SNMP em Hex:\n",
      "30 45 02 01 00 04 06 70 75 62 6c 69 63 a0 38 02 01 02 02 01 00 02 01 00 30 2d 30 2b 06 08 2b 06 01 02 01 01 03 00 04 1f 6d 65 6e 73 61 67 65 6d 20 61 20 73 65 72 20 70 61 73 73 61 64 61 20 70 6f 72 20 73 6e 6d 70\n",
      "\n",
      "\n",
      "Resposta Recebida!\n",
      "Bytes:\n",
      "b'0)\\x02\\x01\\x00\\x04\\x06public\\xa2\\x1c\\x02\\x01\\x02\\x02\\x01\\x00\\x02\\x01\\x000\\x110\\x0f\\x06\\x08+\\x06\\x01\\x02\\x01\\x01\\x03\\x00C\\x03\\x05\\xc7\\xcf'\n",
      "\n",
      "Hex:\n",
      "30 29 02 01 00 04 06 70 75 62 6c 69 63 a2 1c 02 01 02 02 01 00 02 01 00 30 11 30 0f 06 08 2b 06 01 02 01 01 03 00 43 03 05 c7 cf\n",
      "\n",
      "String:\n",
      "0)\u0002\u0001\u0000\u0004\u0006public\u001c\u0002\u0001\u0002\u0002\u0001\u0000\u0002\u0001\u00000\u00110\u000f+\u0006\u0001\u0002\u0001\u0001\u0003\u0000C\u0003\u0005\n",
      "\n",
      "OBS.: a string pode conter erros de decodificação\n"
     ]
    }
   ],
   "source": [
    "programaResumido(\"1.2.1.1.3.0\")"
   ]
  },
  {
   "cell_type": "code",
   "execution_count": 496,
   "metadata": {},
   "outputs": [
    {
     "name": "stdout",
     "output_type": "stream",
     "text": [
      "Mensagem SNMP em bytes:\n",
      "b'0E\\x02\\x01\\x00\\x04\\x06public\\xa08\\x02\\x01\\x02\\x02\\x01\\x00\\x02\\x01\\x000-0+\\x06\\x08+\\x06\\x01\\x02\\x01\\x01\\x05\\x00\\x04\\x1fmensagem a ser passada por snmp'\n",
      "\n",
      "Mensagem SNMP em Hex:\n",
      "30 45 02 01 00 04 06 70 75 62 6c 69 63 a0 38 02 01 02 02 01 00 02 01 00 30 2d 30 2b 06 08 2b 06 01 02 01 01 05 00 04 1f 6d 65 6e 73 61 67 65 6d 20 61 20 73 65 72 20 70 61 73 73 61 64 61 20 70 6f 72 20 73 6e 6d 70\n",
      "\n",
      "\n",
      "Resposta Recebida!\n",
      "Bytes:\n",
      "b'0)\\x02\\x01\\x00\\x04\\x06public\\xa2\\x1c\\x02\\x01\\x02\\x02\\x01\\x00\\x02\\x01\\x000\\x110\\x0f\\x06\\x08+\\x06\\x01\\x02\\x01\\x01\\x05\\x00\\x04\\x03tom'\n",
      "\n",
      "Hex:\n",
      "30 29 02 01 00 04 06 70 75 62 6c 69 63 a2 1c 02 01 02 02 01 00 02 01 00 30 11 30 0f 06 08 2b 06 01 02 01 01 05 00 04 03 74 6f 6d\n",
      "\n",
      "String:\n",
      "0)\u0002\u0001\u0000\u0004\u0006public\u001c\u0002\u0001\u0002\u0002\u0001\u0000\u0002\u0001\u00000\u00110\u000f+\u0006\u0001\u0002\u0001\u0001\u0005\u0000\u0004\u0003tom\n",
      "\n",
      "OBS.: a string pode conter erros de decodificação\n"
     ]
    }
   ],
   "source": [
    "programaResumido(\"1.2.1.1.5.0\")"
   ]
  },
  {
   "cell_type": "code",
   "execution_count": null,
   "metadata": {},
   "outputs": [],
   "source": []
  }
 ],
 "metadata": {
  "interpreter": {
   "hash": "916dbcbb3f70747c44a77c7bcd40155683ae19c65e1c03b4aa3499c5328201f1"
  },
  "kernelspec": {
   "display_name": "Python 3.9.2 64-bit",
   "language": "python",
   "name": "python3"
  },
  "language_info": {
   "codemirror_mode": {
    "name": "ipython",
    "version": 3
   },
   "file_extension": ".py",
   "mimetype": "text/x-python",
   "name": "python",
   "nbconvert_exporter": "python",
   "pygments_lexer": "ipython3",
   "version": "3.9.2"
  },
  "orig_nbformat": 4
 },
 "nbformat": 4,
 "nbformat_minor": 2
}
