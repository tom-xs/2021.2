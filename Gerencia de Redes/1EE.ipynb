{
 "cells": [
  {
   "cell_type": "code",
   "execution_count": 1,
   "metadata": {},
   "outputs": [],
   "source": [
    "from struct import pack, unpack\n",
    "import socket"
   ]
  },
  {
   "cell_type": "markdown",
   "metadata": {},
   "source": [
    "## Montando o datagram"
   ]
  },
  {
   "cell_type": "markdown",
   "metadata": {},
   "source": [
    "![structure](assets/snmp_structure.png)  "
   ]
  },
  {
   "cell_type": "markdown",
   "metadata": {},
   "source": [
    "![data](assets/snmp_data.png)"
   ]
  },
  {
   "cell_type": "markdown",
   "metadata": {},
   "source": [
    "### Montando VarbindList"
   ]
  },
  {
   "cell_type": "code",
   "execution_count": 2,
   "metadata": {},
   "outputs": [],
   "source": [
    "snmpValue = pack(\"2b\",5,0) #byte 0x05 indica que dataType do que to enviando é nulo"
   ]
  },
  {
   "cell_type": "code",
   "execution_count": 109,
   "metadata": {},
   "outputs": [],
   "source": [
    "OID_CODE = '1.2.1.1.5'.split(\".\")\n",
    "snmpOid = pack(\"2b\",0x2b, 0x06) + bytearray(int(x) for x in OID_CODE ) # iso.3 + restante do oid"
   ]
  },
  {
   "cell_type": "code",
   "execution_count": 110,
   "metadata": {},
   "outputs": [
    {
     "data": {
      "text/plain": [
       "'2b 06 01 02 01 01 05 05 00'"
      ]
     },
     "execution_count": 110,
     "metadata": {},
     "output_type": "execute_result"
    }
   ],
   "source": [
    "snmpVarbind = snmpOid + snmpValue\n",
    "snmpVarbind.hex(\" \")"
   ]
  },
  {
   "cell_type": "code",
   "execution_count": 123,
   "metadata": {},
   "outputs": [
    {
     "data": {
      "text/plain": [
       "'06 07 2b 06 01 02 01 01 05 05 00'"
      ]
     },
     "execution_count": 123,
     "metadata": {},
     "output_type": "execute_result"
    }
   ],
   "source": [
    "snmpVarbindSequence = pack('b',6) + len(snmpOid).to_bytes(1,'little') + snmpVarbind \n",
    "snmpVarbindSequence.hex(\" \")"
   ]
  },
  {
   "cell_type": "code",
   "execution_count": 126,
   "metadata": {},
   "outputs": [
    {
     "data": {
      "text/plain": [
       "'30 0d 30 0b 06 07 2b 06 01 02 01 01 05 05 00'"
      ]
     },
     "execution_count": 126,
     "metadata": {},
     "output_type": "execute_result"
    }
   ],
   "source": [
    "snmpVarbindList = pack('b',0x30) + len(snmpVarbindSequence).to_bytes(1,\"little\") + snmpVarbindSequence\n",
    "snmpVarbindList = pack('b',0x30) + len(snmpVarbindList).to_bytes(1,\"little\") +  snmpVarbindList\n",
    "snmpVarbindList.hex(\" \")"
   ]
  },
  {
   "cell_type": "markdown",
   "metadata": {},
   "source": [
    "### Montando PDU"
   ]
  },
  {
   "cell_type": "code",
   "execution_count": 144,
   "metadata": {},
   "outputs": [
    {
     "data": {
      "text/plain": [
       "'02 01 00 30 0d 30 0b 06 07 2b 06 01 02 01 01 05 05 00'"
      ]
     },
     "execution_count": 144,
     "metadata": {},
     "output_type": "execute_result"
    }
   ],
   "source": [
    "snmpErrorIndex = pack(\"b\",0x0)\n",
    "snmpPdu = pack(\"b\",0x02) + len(snmpErrorIndex).to_bytes(1,\"little\") +  snmpErrorIndex + snmpVarbindList\n",
    "snmpPdu.hex(\" \")"
   ]
  },
  {
   "cell_type": "code",
   "execution_count": 145,
   "metadata": {},
   "outputs": [
    {
     "data": {
      "text/plain": [
       "'02 01 00 02 01 00 30 0d 30 0b 06 07 2b 06 01 02 01 01 05 05 00'"
      ]
     },
     "execution_count": 145,
     "metadata": {},
     "output_type": "execute_result"
    }
   ],
   "source": [
    "snmpErrorStatus = pack(\"b\",0x0)\n",
    "snmpPdu = pack('b',2) + len(snmpErrorStatus).to_bytes(1,\"little\") + snmpErrorStatus + snmpPdu\n",
    "snmpPdu.hex(\" \")"
   ]
  },
  {
   "cell_type": "code",
   "execution_count": 146,
   "metadata": {},
   "outputs": [
    {
     "data": {
      "text/plain": [
       "'02 01 01 02 01 00 02 01 00 30 0d 30 0b 06 07 2b 06 01 02 01 01 05 05 00'"
      ]
     },
     "execution_count": 146,
     "metadata": {},
     "output_type": "execute_result"
    }
   ],
   "source": [
    "snmpRequestId = pack(\"b\",0x1)\n",
    "snmpPdu = pack('b',2) + len(snmpRequestId).to_bytes(1,\"little\") + snmpRequestId + snmpPdu\n",
    "snmpPdu.hex(\" \")"
   ]
  },
  {
   "cell_type": "code",
   "execution_count": 147,
   "metadata": {},
   "outputs": [
    {
     "data": {
      "text/plain": [
       "'a0 18 02 01 01 02 01 00 02 01 00 30 0d 30 0b 06 07 2b 06 01 02 01 01 05 05 00'"
      ]
     },
     "execution_count": 147,
     "metadata": {},
     "output_type": "execute_result"
    }
   ],
   "source": [
    "snmpPduType =  pack('B',0xa0) # 0xa0 = getRequest, 0xa2 = getResponse\n",
    "snmpPdu = snmpPduType + len(snmpPdu).to_bytes(1,\"little\") + snmpPdu\n",
    "snmpPdu.hex(\" \")"
   ]
  },
  {
   "cell_type": "markdown",
   "metadata": {},
   "source": [
    "### Montando header"
   ]
  },
  {
   "cell_type": "code",
   "execution_count": 159,
   "metadata": {},
   "outputs": [
    {
     "data": {
      "text/plain": [
       "'04 06 70 75 62 6c 69 63 a0 18 02 01 01 02 01 00 02 01 00 30 0d 30 0b 06 07 2b 06 01 02 01 01 05 05 00'"
      ]
     },
     "execution_count": 159,
     "metadata": {},
     "output_type": "execute_result"
    }
   ],
   "source": [
    "COMMUNITY = b'public'\n",
    "commLen = len(COMMUNITY)\n",
    "snmpCommunity = pack(\"{}s\".format(commLen),COMMUNITY)\n",
    "\n",
    "snmpHeader = pack('b',0x04) + commLen.to_bytes(1,\"little\") + snmpCommunity + snmpPdu\n",
    "\n",
    "snmpHeader.hex(\" \")"
   ]
  },
  {
   "cell_type": "code",
   "execution_count": 160,
   "metadata": {},
   "outputs": [
    {
     "data": {
      "text/plain": [
       "'02 01 00 04 06 70 75 62 6c 69 63 a0 18 02 01 01 02 01 00 02 01 00 30 0d 30 0b 06 07 2b 06 01 02 01 01 05 05 00'"
      ]
     },
     "execution_count": 160,
     "metadata": {},
     "output_type": "execute_result"
    }
   ],
   "source": [
    "snmpVersion = pack('b',0x0)\n",
    "snmpHeader = pack('b',0x2) + len(snmpVersion).to_bytes(1,\"little\") + snmpVersion + snmpHeader\n",
    "\n",
    "snmpHeader.hex(\" \")"
   ]
  },
  {
   "cell_type": "code",
   "execution_count": 168,
   "metadata": {},
   "outputs": [],
   "source": [
    "snmpMessage = pack('b',0x30) + len(snmpHeader).to_bytes(1,\"little\") + snmpHeader"
   ]
  },
  {
   "cell_type": "code",
   "execution_count": 178,
   "metadata": {},
   "outputs": [
    {
     "name": "stdout",
     "output_type": "stream",
     "text": [
      "Mensagem SNMP em bytes:\n",
      "b'0%\\x02\\x01\\x00\\x04\\x06public\\xa0\\x18\\x02\\x01\\x01\\x02\\x01\\x00\\x02\\x01\\x000\\r0\\x0b\\x06\\x07+\\x06\\x01\\x02\\x01\\x01\\x05\\x05\\x00'\n",
      "\n",
      "Mensagem SNMP em Hex:\n",
      "30 25 02 01 00 04 06 70 75 62 6c 69 63 a0 18 02 01 01 02 01 00 02 01 00 30 0d 30 0b 06 07 2b 06 01 02 01 01 05 05 00\n"
     ]
    }
   ],
   "source": [
    "print('Mensagem SNMP em bytes:\\n{}\\n\\nMensagem SNMP em Hex:\\n{}'.format(snmpMessage, snmpMessage.hex(\" \")))"
   ]
  },
  {
   "cell_type": "markdown",
   "metadata": {},
   "source": [
    "## Montando o socket"
   ]
  },
  {
   "cell_type": "code",
   "execution_count": 179,
   "metadata": {},
   "outputs": [],
   "source": [
    "ipDest = b\"127.0.0.1\"\n",
    "s = socket.socket(socket.AF_INET, socket.SOCK_STREAM)"
   ]
  },
  {
   "cell_type": "code",
   "execution_count": null,
   "metadata": {},
   "outputs": [],
   "source": []
  }
 ],
 "metadata": {
  "interpreter": {
   "hash": "916dbcbb3f70747c44a77c7bcd40155683ae19c65e1c03b4aa3499c5328201f1"
  },
  "kernelspec": {
   "display_name": "Python 3.9.2 64-bit",
   "language": "python",
   "name": "python3"
  },
  "language_info": {
   "codemirror_mode": {
    "name": "ipython",
    "version": 3
   },
   "file_extension": ".py",
   "mimetype": "text/x-python",
   "name": "python",
   "nbconvert_exporter": "python",
   "pygments_lexer": "ipython3",
   "version": "3.9.2"
  },
  "orig_nbformat": 4
 },
 "nbformat": 4,
 "nbformat_minor": 2
}
