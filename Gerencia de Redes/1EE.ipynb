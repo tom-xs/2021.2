{
 "cells": [
  {
   "cell_type": "code",
   "execution_count": 1,
   "metadata": {},
   "outputs": [],
   "source": [
    "from struct import pack, unpack\n",
    "import socket"
   ]
  },
  {
   "cell_type": "markdown",
   "metadata": {},
   "source": [
    "## Montando o datagram"
   ]
  },
  {
   "cell_type": "markdown",
   "metadata": {},
   "source": [
    "![structure](assets/snmp_structure.png)  "
   ]
  },
  {
   "cell_type": "markdown",
   "metadata": {},
   "source": [
    "![data](assets/snmp_data.png)"
   ]
  },
  {
   "cell_type": "code",
   "execution_count": 26,
   "metadata": {},
   "outputs": [],
   "source": [
    "snmpDataSent = pack(\"2b\",5,0) #byte 0x05 indica que dataType do que to enviando é nulo"
   ]
  },
  {
   "cell_type": "code",
   "execution_count": 27,
   "metadata": {},
   "outputs": [
    {
     "data": {
      "text/plain": [
       "b'\\x05\\x00'"
      ]
     },
     "execution_count": 27,
     "metadata": {},
     "output_type": "execute_result"
    }
   ],
   "source": [
    "snmpDataSent"
   ]
  },
  {
   "cell_type": "markdown",
   "metadata": {},
   "source": [
    "Common SNMP Header"
   ]
  },
  {
   "cell_type": "code",
   "execution_count": 23,
   "metadata": {},
   "outputs": [
    {
     "ename": "error",
     "evalue": "pack expected 2 items for packing (got 1)",
     "output_type": "error",
     "traceback": [
      "\u001b[0;31m---------------------------------------------------------------------------\u001b[0m",
      "\u001b[0;31merror\u001b[0m                                     Traceback (most recent call last)",
      "\u001b[1;32m/home/tomasxs/Faculdade/Gerencia de Redes/1EE.ipynb Cell 5'\u001b[0m in \u001b[0;36m<cell line: 2>\u001b[0;34m()\u001b[0m\n\u001b[1;32m      <a href='vscode-notebook-cell:/home/tomasxs/Faculdade/Gerencia%20de%20Redes/1EE.ipynb#ch0000004?line=0'>1</a>\u001b[0m snmpVersion \u001b[39m=\u001b[39m pack(\u001b[39m\"\u001b[39m\u001b[39mb\u001b[39m\u001b[39m\"\u001b[39m,\u001b[39m0\u001b[39m) \u001b[39m#versão 0\u001b[39;00m\n\u001b[0;32m----> <a href='vscode-notebook-cell:/home/tomasxs/Faculdade/Gerencia%20de%20Redes/1EE.ipynb#ch0000004?line=1'>2</a>\u001b[0m snmpLength \u001b[39m=\u001b[39m pack(\u001b[39m\"\u001b[39;49m\u001b[39mbb\u001b[39;49m\u001b[39m\"\u001b[39;49m,\u001b[39mb\u001b[39;49m\u001b[39m'\u001b[39;49m\u001b[39m46\u001b[39;49m\u001b[39m'\u001b[39;49m)\n\u001b[1;32m      <a href='vscode-notebook-cell:/home/tomasxs/Faculdade/Gerencia%20de%20Redes/1EE.ipynb#ch0000004?line=2'>3</a>\u001b[0m snmpCommunity \u001b[39m=\u001b[39m pack(\u001b[39m\"\u001b[39m\u001b[39m6s\u001b[39m\u001b[39m\"\u001b[39m,\u001b[39mb\u001b[39m\u001b[39m'\u001b[39m\u001b[39mpublic\u001b[39m\u001b[39m'\u001b[39m) \u001b[39m#community = public\u001b[39;00m\n\u001b[1;32m      <a href='vscode-notebook-cell:/home/tomasxs/Faculdade/Gerencia%20de%20Redes/1EE.ipynb#ch0000004?line=4'>5</a>\u001b[0m snmpMessage \u001b[39m=\u001b[39m snmpVersion \u001b[39m+\u001b[39m snmpCommunity\n",
      "\u001b[0;31merror\u001b[0m: pack expected 2 items for packing (got 1)"
     ]
    }
   ],
   "source": [
    "snmpSequence = pack()\n",
    "snmpVersion = pack(\"b\",0) # versão 0\n",
    "snmpLength = pack(\"\",)\n",
    "snmpCommunity = pack(\"6s\",b'public') #community = public\n",
    "\n",
    "snmpMessage = snmpVersion + snmpCommunity\n"
   ]
  },
  {
   "cell_type": "code",
   "execution_count": 22,
   "metadata": {},
   "outputs": [
    {
     "data": {
      "text/plain": [
       "b'\\x00public'"
      ]
     },
     "execution_count": 22,
     "metadata": {},
     "output_type": "execute_result"
    }
   ],
   "source": [
    "snmpMessage"
   ]
  },
  {
   "cell_type": "markdown",
   "metadata": {},
   "source": [
    "segunda camada (PDU)"
   ]
  },
  {
   "cell_type": "code",
   "execution_count": 3,
   "metadata": {},
   "outputs": [
    {
     "data": {
      "text/plain": [
       "b'public'"
      ]
     },
     "execution_count": 3,
     "metadata": {},
     "output_type": "execute_result"
    }
   ],
   "source": [
    "snmpRequestId = pack(\"i\",1)\n",
    "snmpErrorStatus = pack(\"i\",0)\n",
    "snmpErrorIndex = pack(\"i\",0)\n",
    "\n",
    "snmpPduType = pack()\n",
    "\n"
   ]
  },
  {
   "cell_type": "markdown",
   "metadata": {},
   "source": [
    "## Montando o socket"
   ]
  },
  {
   "cell_type": "code",
   "execution_count": 4,
   "metadata": {},
   "outputs": [],
   "source": [
    "ipSrc = b\"127.0.0.1\"\n",
    "s = socket.socket(socket.AF_INET, socket.SOCK_STREAM)"
   ]
  },
  {
   "cell_type": "markdown",
   "metadata": {},
   "source": []
  }
 ],
 "metadata": {
  "interpreter": {
   "hash": "916dbcbb3f70747c44a77c7bcd40155683ae19c65e1c03b4aa3499c5328201f1"
  },
  "kernelspec": {
   "display_name": "Python 3.9.2 64-bit",
   "language": "python",
   "name": "python3"
  },
  "language_info": {
   "codemirror_mode": {
    "name": "ipython",
    "version": 3
   },
   "file_extension": ".py",
   "mimetype": "text/x-python",
   "name": "python",
   "nbconvert_exporter": "python",
   "pygments_lexer": "ipython3",
   "version": "3.9.2"
  },
  "orig_nbformat": 4
 },
 "nbformat": 4,
 "nbformat_minor": 2
}
